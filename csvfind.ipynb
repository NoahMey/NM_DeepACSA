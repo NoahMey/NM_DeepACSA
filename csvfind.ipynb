{
 "cells": [
  {
   "cell_type": "code",
   "execution_count": 1,
   "metadata": {},
   "outputs": [
    {
     "name": "stdout",
     "output_type": "stream",
     "text": [
      "Epoch with highest val_IoU: 43\n"
     ]
    }
   ],
   "source": [
    "import pandas as pd\n",
    "\n",
    "# Read CSV file and store it in a Pandas DataFrame\n",
    "df = pd.read_csv('D:/UniBas/Bachelorarbeit/CSV from Paul/Model_CSVs/B1GC-Kfoldno1-unet3plus.csv')\n",
    "\n",
    "# Find the highest value of val_IoU\n",
    "max_iou = df['val_IoU'].max()\n",
    "\n",
    "# Find the corresponding Epoch value\n",
    "epoch = df.loc[df['val_IoU'] == max_iou, 'epoch'].iloc[0]\n",
    "\n",
    "# Print the Epoch value\n",
    "print('Epoch with highest val_IoU:', epoch)\n"
   ]
  },
  {
   "cell_type": "code",
   "execution_count": 71,
   "metadata": {},
   "outputs": [
    {
     "name": "stdout",
     "output_type": "stream",
     "text": [
      "Highest val_IoU in B1GC-Kfoldno1-unet3plus.csv: 0.997308313846588 at epoch 43\n"
     ]
    }
   ],
   "source": [
    "import os\n",
    "import pandas as pd\n",
    "\n",
    "# specify directory containing CSV files\n",
    "directory = 'D:/UniBas/Bachelorarbeit/CSV from Paul/Model_CSVs/'\n",
    "\n",
    "# loop through CSV files in directory\n",
    "for filename in os.listdir(directory):\n",
    "    if filename.endswith('.csv'):\n",
    "        # read CSV file into pandas DataFrame\n",
    "        df = pd.read_csv(os.path.join(directory, filename))\n",
    "        \n",
    "        # extract highest value in val_IoU column and corresponding epoch number\n",
    "        max_iou = df['val_IoU'].max()\n",
    "        epoch = df.loc[df['val_IoU'] == max_iou, 'epoch'].iloc[0]\n",
    "        \n",
    "        # print results\n",
    "        print(f\"Highest val_IoU in {filename}: {max_iou} at epoch {epoch}\")\n"
   ]
  },
  {
   "cell_type": "code",
   "execution_count": 8,
   "metadata": {},
   "outputs": [
    {
     "name": "stdout",
     "output_type": "stream",
     "text": [
      "Best fold: B1GC-Kfoldno1-unet3plus.csv with max val_IoU: 0.997308313846588\n"
     ]
    }
   ],
   "source": [
    "import os\n",
    "import pandas as pd\n",
    "\n",
    "# Set the folder path where the csv files are located\n",
    "folder_path = 'D:/UniBas/Bachelorarbeit/CSV from Paul/Model_CSVs/'\n",
    "\n",
    "max_val_iou = 0.0\n",
    "best_file = \"\"\n",
    "\n",
    "for file_name in os.listdir(folder_path):\n",
    "    if file_name.endswith(\".csv\"):\n",
    "        file_path = os.path.join(folder_path, file_name)\n",
    "        df = pd.read_csv(file_path)\n",
    "        val_iou = df[\"val_IoU\"].max()\n",
    "        if val_iou > max_val_iou:\n",
    "            max_val_iou = val_iou\n",
    "            best_file = file_name\n",
    "\n",
    "print(\"Best fold:\", best_file, \"with max val_IoU:\", max_val_iou)"
   ]
  },
  {
   "cell_type": "code",
   "execution_count": 43,
   "metadata": {},
   "outputs": [
    {
     "name": "stdout",
     "output_type": "stream",
     "text": [
      "Best file: B1VL-Kfoldno1-transunet.csv with max val_IoU: 0.9967745542526244\n"
     ]
    }
   ],
   "source": [
    "import os\n",
    "import pandas as pd\n",
    "\n",
    "folder_path = \"D:/UniBas/Bachelorarbeit/CSV from Paul/Folder/\"  \n",
    "\n",
    "max_val_iou = 0.0\n",
    "best_file = \"\"\n",
    "\n",
    "for file_name in os.listdir(folder_path):\n",
    "    if file_name.endswith(\".csv\"):\n",
    "        file_path = os.path.join(folder_path, file_name)\n",
    "        df = pd.read_csv(file_path)\n",
    "        val_iou = df[\"val_IoU\"].max()\n",
    "        if val_iou > max_val_iou:\n",
    "            max_val_iou = val_iou\n",
    "            best_file = file_name\n",
    "\n",
    "print(\"Best file:\", best_file, \"with max val_IoU:\", max_val_iou)\n",
    "\n",
    "# Save the results to a CSV file\n",
    "results = pd.DataFrame({\"best_file\": [best_file], \"max_val_iou\": [max_val_iou]})\n",
    "results.to_csv(\"results.csv\", index=False)\n"
   ]
  },
  {
   "cell_type": "code",
   "execution_count": 70,
   "metadata": {},
   "outputs": [
    {
     "name": "stdout",
     "output_type": "stream",
     "text": [
      "d:\\development\\NM_DeepACSA\n"
     ]
    },
    {
     "ename": "KeyError",
     "evalue": "'val_IoU'",
     "output_type": "error",
     "traceback": [
      "\u001b[1;31m---------------------------------------------------------------------------\u001b[0m",
      "\u001b[1;31mKeyError\u001b[0m                                  Traceback (most recent call last)",
      "File \u001b[1;32mc:\\Users\\Noah\\.conda\\envs\\DeepACSA5\\lib\\site-packages\\pandas\\core\\indexes\\base.py:2891\u001b[0m, in \u001b[0;36mIndex.get_loc\u001b[1;34m(self, key, method, tolerance)\u001b[0m\n\u001b[0;32m   2890\u001b[0m \u001b[39mtry\u001b[39;00m:\n\u001b[1;32m-> 2891\u001b[0m     \u001b[39mreturn\u001b[39;00m \u001b[39mself\u001b[39;49m\u001b[39m.\u001b[39;49m_engine\u001b[39m.\u001b[39;49mget_loc(casted_key)\n\u001b[0;32m   2892\u001b[0m \u001b[39mexcept\u001b[39;00m \u001b[39mKeyError\u001b[39;00m \u001b[39mas\u001b[39;00m err:\n",
      "File \u001b[1;32mpandas\\_libs\\index.pyx:70\u001b[0m, in \u001b[0;36mpandas._libs.index.IndexEngine.get_loc\u001b[1;34m()\u001b[0m\n",
      "File \u001b[1;32mpandas\\_libs\\index.pyx:101\u001b[0m, in \u001b[0;36mpandas._libs.index.IndexEngine.get_loc\u001b[1;34m()\u001b[0m\n",
      "File \u001b[1;32mpandas\\_libs\\hashtable_class_helper.pxi:1675\u001b[0m, in \u001b[0;36mpandas._libs.hashtable.PyObjectHashTable.get_item\u001b[1;34m()\u001b[0m\n",
      "File \u001b[1;32mpandas\\_libs\\hashtable_class_helper.pxi:1683\u001b[0m, in \u001b[0;36mpandas._libs.hashtable.PyObjectHashTable.get_item\u001b[1;34m()\u001b[0m\n",
      "\u001b[1;31mKeyError\u001b[0m: 'val_IoU'",
      "\nThe above exception was the direct cause of the following exception:\n",
      "\u001b[1;31mKeyError\u001b[0m                                  Traceback (most recent call last)",
      "Cell \u001b[1;32mIn[70], line 23\u001b[0m\n\u001b[0;32m     21\u001b[0m fpath \u001b[39m=\u001b[39m os\u001b[39m.\u001b[39mgetcwd()\n\u001b[0;32m     22\u001b[0m \u001b[39mprint\u001b[39m(fpath)\n\u001b[1;32m---> 23\u001b[0m best_fold(fpath, \u001b[39m\"\u001b[39;49m\u001b[39mres\u001b[39;49m\u001b[39m\"\u001b[39;49m)\n\u001b[0;32m     25\u001b[0m my_string \u001b[39m=\u001b[39m \u001b[39m\"\u001b[39m\u001b[39mThe quick brown fox jumps over the lazy dog.\u001b[39m\u001b[39m\"\u001b[39m\n\u001b[0;32m     26\u001b[0m \u001b[39m# Replace all occurrences of 'o' with 'x'\u001b[39;00m\n",
      "Cell \u001b[1;32mIn[70], line 9\u001b[0m, in \u001b[0;36mbest_fold\u001b[1;34m(path, chara)\u001b[0m\n\u001b[0;32m      7\u001b[0m file_path \u001b[39m=\u001b[39m os\u001b[39m.\u001b[39mpath\u001b[39m.\u001b[39mjoin(path, file_name)\n\u001b[0;32m      8\u001b[0m df \u001b[39m=\u001b[39m pd\u001b[39m.\u001b[39mread_csv(file_path)\n\u001b[1;32m----> 9\u001b[0m val_iou \u001b[39m=\u001b[39m df[\u001b[39m\"\u001b[39;49m\u001b[39mval_IoU\u001b[39;49m\u001b[39m\"\u001b[39;49m]\u001b[39m.\u001b[39mmax()\n\u001b[0;32m     10\u001b[0m \u001b[39mif\u001b[39;00m val_iou \u001b[39m>\u001b[39m max_val_iou:\n\u001b[0;32m     11\u001b[0m     max_val_iou \u001b[39m=\u001b[39m val_iou\n",
      "File \u001b[1;32mc:\\Users\\Noah\\.conda\\envs\\DeepACSA5\\lib\\site-packages\\pandas\\core\\frame.py:2902\u001b[0m, in \u001b[0;36mDataFrame.__getitem__\u001b[1;34m(self, key)\u001b[0m\n\u001b[0;32m   2900\u001b[0m \u001b[39mif\u001b[39;00m \u001b[39mself\u001b[39m\u001b[39m.\u001b[39mcolumns\u001b[39m.\u001b[39mnlevels \u001b[39m>\u001b[39m \u001b[39m1\u001b[39m:\n\u001b[0;32m   2901\u001b[0m     \u001b[39mreturn\u001b[39;00m \u001b[39mself\u001b[39m\u001b[39m.\u001b[39m_getitem_multilevel(key)\n\u001b[1;32m-> 2902\u001b[0m indexer \u001b[39m=\u001b[39m \u001b[39mself\u001b[39;49m\u001b[39m.\u001b[39;49mcolumns\u001b[39m.\u001b[39;49mget_loc(key)\n\u001b[0;32m   2903\u001b[0m \u001b[39mif\u001b[39;00m is_integer(indexer):\n\u001b[0;32m   2904\u001b[0m     indexer \u001b[39m=\u001b[39m [indexer]\n",
      "File \u001b[1;32mc:\\Users\\Noah\\.conda\\envs\\DeepACSA5\\lib\\site-packages\\pandas\\core\\indexes\\base.py:2893\u001b[0m, in \u001b[0;36mIndex.get_loc\u001b[1;34m(self, key, method, tolerance)\u001b[0m\n\u001b[0;32m   2891\u001b[0m         \u001b[39mreturn\u001b[39;00m \u001b[39mself\u001b[39m\u001b[39m.\u001b[39m_engine\u001b[39m.\u001b[39mget_loc(casted_key)\n\u001b[0;32m   2892\u001b[0m     \u001b[39mexcept\u001b[39;00m \u001b[39mKeyError\u001b[39;00m \u001b[39mas\u001b[39;00m err:\n\u001b[1;32m-> 2893\u001b[0m         \u001b[39mraise\u001b[39;00m \u001b[39mKeyError\u001b[39;00m(key) \u001b[39mfrom\u001b[39;00m \u001b[39merr\u001b[39;00m\n\u001b[0;32m   2895\u001b[0m \u001b[39mif\u001b[39;00m tolerance \u001b[39mis\u001b[39;00m \u001b[39mnot\u001b[39;00m \u001b[39mNone\u001b[39;00m:\n\u001b[0;32m   2896\u001b[0m     tolerance \u001b[39m=\u001b[39m \u001b[39mself\u001b[39m\u001b[39m.\u001b[39m_convert_tolerance(tolerance, np\u001b[39m.\u001b[39masarray(key))\n",
      "\u001b[1;31mKeyError\u001b[0m: 'val_IoU'"
     ]
    }
   ],
   "source": [
    "import os\n",
    "import pandas as pd\n",
    "\n",
    "def best_fold(chara):\n",
    "    path\n",
    "    max_val_iou = 0.0\n",
    "    best_file = \"\"\n",
    "\n",
    "    for file_name in os.listdir(os.getcwd()):\n",
    "        if file_name.startswith(chara) and file_name.endswith(\".csv\"):\n",
    "            file_path = os.path.join(path, file_name)\n",
    "            df = pd.read_csv(file_path)\n",
    "            val_iou = df[\"val_IoU\"].max()\n",
    "            if val_iou > max_val_iou:\n",
    "                max_val_iou = val_iou\n",
    "                best_file = file_name\n",
    "\n",
    "    print(\"Best fold:\", best_file, \"with max val_IoU:\", max_val_iou)\n",
    "\n",
    "    # Save the results to a CSV file\n",
    "    results = pd.DataFrame({\"best_file\": [best_file], \"max_val_iou\": [max_val_iou]})\n",
    "    results.to_csv(\"results.csv\", index=False)\n",
    "\n",
    "\n",
    "fpath = os.getcwd()\n",
    "print(fpath)\n",
    "best_fold(fpath, \"res\")\n",
    "\n",
    "my_string = \"The quick brown fox jumps over the lazy dog.\"\n",
    "# Replace all occurrences of 'o' with 'x'\n",
    "new_string = my_string.replace('o', 'x')\n",
    "\n",
    "# Print the new string\n",
    "print(new_string)"
   ]
  }
 ],
 "metadata": {
  "kernelspec": {
   "display_name": "DeepACSA5",
   "language": "python",
   "name": "python3"
  },
  "language_info": {
   "codemirror_mode": {
    "name": "ipython",
    "version": 3
   },
   "file_extension": ".py",
   "mimetype": "text/x-python",
   "name": "python",
   "nbconvert_exporter": "python",
   "pygments_lexer": "ipython3",
   "version": "3.8.16"
  },
  "orig_nbformat": 4
 },
 "nbformat": 4,
 "nbformat_minor": 2
}
