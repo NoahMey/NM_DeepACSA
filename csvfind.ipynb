{
 "cells": [
  {
   "cell_type": "code",
   "execution_count": 1,
   "metadata": {},
   "outputs": [
    {
     "name": "stdout",
     "output_type": "stream",
     "text": [
      "Epoch with highest val_IoU: 43\n"
     ]
    }
   ],
   "source": [
    "import pandas as pd\n",
    "\n",
    "# Read CSV file and store it in a Pandas DataFrame\n",
    "df = pd.read_csv('D:/UniBas/Bachelorarbeit/CSV from Paul/Model_CSVs/B1GC-Kfoldno1-unet3plus.csv')\n",
    "\n",
    "# Find the highest value of val_IoU\n",
    "max_iou = df['val_IoU'].max()\n",
    "\n",
    "# Find the corresponding Epoch value\n",
    "epoch = df.loc[df['val_IoU'] == max_iou, 'epoch'].iloc[0]\n",
    "\n",
    "# Print the Epoch value\n",
    "print('Epoch with highest val_IoU:', epoch)\n"
   ]
  },
  {
   "cell_type": "code",
   "execution_count": 23,
   "metadata": {},
   "outputs": [
    {
     "name": "stdout",
     "output_type": "stream",
     "text": [
      "Highest val_IoU in K-foldno1-unet2plus.csv: 0.9923080801963806 at epoch 21\n",
      "Highest val_IoU in K-foldno2-unet2plus.csv: 0.9943746328353882 at epoch 32\n",
      "Highest val_IoU in K-foldno3-unet2plus.csv: 0.9925689101219176 at epoch 26\n",
      "Highest val_IoU in K-foldno4-unet2plus.csv: 0.9920278787612916 at epoch 21\n",
      "Highest val_IoU in K-foldno5-unet2plus.csv: 0.9917815327644348 at epoch 22\n"
     ]
    }
   ],
   "source": [
    "import os\n",
    "import pandas as pd\n",
    "\n",
    "# specify directory containing CSV files\n",
    "directory = 'D:/UniBas/Bachelorarbeit/CSV from Paul/Folder/'\n",
    "\n",
    "# loop through CSV files in directory\n",
    "for filename in os.listdir(directory):\n",
    "    if filename.endswith('.csv'):\n",
    "        # read CSV file into pandas DataFrame\n",
    "        df = pd.read_csv(os.path.join(directory, filename))\n",
    "        \n",
    "        # extract highest value in val_IoU column and corresponding epoch number\n",
    "        max_iou = df['val_IoU'].max()\n",
    "        epoch = df.loc[df['val_IoU'] == max_iou, 'epoch'].iloc[0]\n",
    "        \n",
    "        # print results\n",
    "        print(f\"Highest val_IoU in {filename}: {max_iou} at epoch {epoch}\")\n"
   ]
  },
  {
   "cell_type": "code",
   "execution_count": 8,
   "metadata": {},
   "outputs": [
    {
     "name": "stdout",
     "output_type": "stream",
     "text": [
      "Best fold: B1GC-Kfoldno1-unet3plus.csv with max val_IoU: 0.997308313846588\n"
     ]
    }
   ],
   "source": [
    "import os\n",
    "import pandas as pd\n",
    "\n",
    "# Set the folder path where the csv files are located\n",
    "folder_path = 'D:/UniBas/Bachelorarbeit/CSV from Paul/Model_CSVs/'\n",
    "\n",
    "max_val_iou = 0.0\n",
    "best_file = \"\"\n",
    "\n",
    "for file_name in os.listdir(folder_path):\n",
    "    if file_name.endswith(\".csv\"):\n",
    "        file_path = os.path.join(folder_path, file_name)\n",
    "        df = pd.read_csv(file_path)\n",
    "        val_iou = df[\"val_IoU\"].max()\n",
    "        if val_iou > max_val_iou:\n",
    "            max_val_iou = val_iou\n",
    "            best_file = file_name\n",
    "\n",
    "print(\"Best fold:\", best_file, \"with max val_IoU:\", max_val_iou)"
   ]
  },
  {
   "cell_type": "code",
   "execution_count": 43,
   "metadata": {},
   "outputs": [
    {
     "name": "stdout",
     "output_type": "stream",
     "text": [
      "Best file: B1VL-Kfoldno1-transunet.csv with max val_IoU: 0.9967745542526244\n"
     ]
    }
   ],
   "source": [
    "import os\n",
    "import pandas as pd\n",
    "\n",
    "folder_path = \"D:/UniBas/Bachelorarbeit/CSV from Paul/Folder/\"  \n",
    "\n",
    "max_val_iou = 0.0\n",
    "best_file = \"\"\n",
    "\n",
    "for file_name in os.listdir(folder_path):\n",
    "    if file_name.endswith(\".csv\"):\n",
    "        file_path = os.path.join(folder_path, file_name)\n",
    "        df = pd.read_csv(file_path)\n",
    "        val_iou = df[\"val_IoU\"].max()\n",
    "        if val_iou > max_val_iou:\n",
    "            max_val_iou = val_iou\n",
    "            best_file = file_name\n",
    "\n",
    "print(\"Best file:\", best_file, \"with max val_IoU:\", max_val_iou)\n",
    "\n",
    "# Save the results to a CSV file\n",
    "results = pd.DataFrame({\"best_file\": [best_file], \"max_val_iou\": [max_val_iou]})\n",
    "results.to_csv(\"results.csv\", index=False)\n"
   ]
  },
  {
   "cell_type": "code",
   "execution_count": 17,
   "metadata": {},
   "outputs": [
    {
     "ename": "UnboundLocalError",
     "evalue": "local variable 'file_path' referenced before assignment",
     "output_type": "error",
     "traceback": [
      "\u001b[1;31m---------------------------------------------------------------------------\u001b[0m",
      "\u001b[1;31mUnboundLocalError\u001b[0m                         Traceback (most recent call last)",
      "Cell \u001b[1;32mIn[17], line 24\u001b[0m\n\u001b[0;32m     21\u001b[0m     results \u001b[39m=\u001b[39m pd\u001b[39m.\u001b[39mDataFrame({\u001b[39m\"\u001b[39m\u001b[39mbest_file\u001b[39m\u001b[39m\"\u001b[39m: [best_file], \u001b[39m\"\u001b[39m\u001b[39mmax_val_iou\u001b[39m\u001b[39m\"\u001b[39m: [max_val_iou]})\n\u001b[0;32m     22\u001b[0m     results\u001b[39m.\u001b[39mto_csv(\u001b[39m\"\u001b[39m\u001b[39mresults.csv\u001b[39m\u001b[39m\"\u001b[39m, index\u001b[39m=\u001b[39m\u001b[39mFalse\u001b[39;00m)\n\u001b[1;32m---> 24\u001b[0m best_fold(\u001b[39m\"\u001b[39;49m\u001b[39mB1\u001b[39;49m\u001b[39m\"\u001b[39;49m)\n",
      "Cell \u001b[1;32mIn[17], line 9\u001b[0m, in \u001b[0;36mbest_fold\u001b[1;34m(chara)\u001b[0m\n\u001b[0;32m      6\u001b[0m max_val_iou \u001b[39m=\u001b[39m \u001b[39m0.0\u001b[39m\n\u001b[0;32m      7\u001b[0m best_file \u001b[39m=\u001b[39m \u001b[39m\"\u001b[39m\u001b[39m\"\u001b[39m\n\u001b[1;32m----> 9\u001b[0m \u001b[39mfor\u001b[39;00m file_name \u001b[39min\u001b[39;00m os\u001b[39m.\u001b[39mlistdir(file_path):\n\u001b[0;32m     10\u001b[0m     \u001b[39mif\u001b[39;00m file_name\u001b[39m.\u001b[39mstartswith(chara) \u001b[39mand\u001b[39;00m file_name\u001b[39m.\u001b[39mendswith(\u001b[39m\"\u001b[39m\u001b[39m.csv\u001b[39m\u001b[39m\"\u001b[39m):\n\u001b[0;32m     11\u001b[0m         file_path \u001b[39m=\u001b[39m os\u001b[39m.\u001b[39mpath\u001b[39m.\u001b[39mjoin(file_path, file_name)\n",
      "\u001b[1;31mUnboundLocalError\u001b[0m: local variable 'file_path' referenced before assignment"
     ]
    }
   ],
   "source": [
    "import os\n",
    "import pandas as pd\n",
    "\n",
    "def best_fold(chara):\n",
    "    folder_path = os.getcwd()\n",
    "    max_val_iou = 0.0\n",
    "    best_file = \"\"\n",
    "\n",
    "    for file_name in os.listdir(file_path):\n",
    "        if file_name.startswith(chara) and file_name.endswith(\".csv\"):\n",
    "            file_path = os.path.join(file_path, file_name)\n",
    "            df = pd.read_csv(file_path)\n",
    "            val_iou = df[\"val_IoU\"].max()\n",
    "            if val_iou > max_val_iou:\n",
    "                max_val_iou = val_iou\n",
    "                best_file = file_name\n",
    "\n",
    "    print(\"Best fold:\", best_file, \"with max val_IoU:\", max_val_iou)\n",
    "\n",
    "    # Save the results to a CSV file\n",
    "    results = pd.DataFrame({\"best_file\": [best_file], \"max_val_iou\": [max_val_iou]})\n",
    "    results.to_csv(\"results.csv\", index=False)\n",
    "\n",
    "best_fold(\"B1\")\n"
   ]
  },
  {
   "cell_type": "code",
   "execution_count": 16,
   "metadata": {},
   "outputs": [
    {
     "name": "stdout",
     "output_type": "stream",
     "text": [
      "d:\\development\\NM_DeepACSA\\B1VL-Kfoldno1-transunet.csv\n",
      "d:\\development\\NM_DeepACSA\\B1VL-Kfoldno2-transunet.csv\n",
      "d:\\development\\NM_DeepACSA\\B1VL-Kfoldno3-transunet.csv\n",
      "d:\\development\\NM_DeepACSA\\B1VL-Kfoldno4-transunet.csv\n",
      "d:\\development\\NM_DeepACSA\\B1VL-Kfoldno5-transunet.csv\n"
     ]
    }
   ],
   "source": [
    "import os\n",
    "import pandas as pd\n",
    "def best_fold(prefix):\n",
    "    fo_path = os.getcwd()  \n",
    "\n",
    "    max_val_iou = 0.0\n",
    "    fold = \"\"\n",
    "\n",
    "    for file_name in os.listdir(fo_path):\n",
    "        if prefix in file_name and file_name.endswith(\".csv\"):\n",
    "            file_path = os.path.join(fo_path, file_name)\n",
    "            df = pd.read_csv(file_path)\n",
    "            print(file_path)\n",
    "            if \"val_IoU\" in df.columns:\n",
    "                val_iou = df[\"val_IoU\"].max()\n",
    "            if val_iou > max_val_iou:\n",
    "                max_val_iou = val_iou\n",
    "                fold = file_name\n",
    "\n",
    "    # Save the results to a CSV file\n",
    "    results = pd.DataFrame({\"fold\": [fold], \"max_val_iou\": [max_val_iou]})\n",
    "    results.to_csv(f\"{prefix}results.csv\", index=False)\n",
    "\n",
    "best_fold(\"transu\")"
   ]
  }
 ],
 "metadata": {
  "kernelspec": {
   "display_name": "DeepACSA5",
   "language": "python",
   "name": "python3"
  },
  "language_info": {
   "codemirror_mode": {
    "name": "ipython",
    "version": 3
   },
   "file_extension": ".py",
   "mimetype": "text/x-python",
   "name": "python",
   "nbconvert_exporter": "python",
   "pygments_lexer": "ipython3",
   "version": "3.8.16"
  },
  "orig_nbformat": 4
 },
 "nbformat": 4,
 "nbformat_minor": 2
}
