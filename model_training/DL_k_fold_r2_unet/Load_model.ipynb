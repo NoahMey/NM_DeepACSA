{
 "cells": [
  {
   "cell_type": "code",
   "execution_count": 1,
   "metadata": {},
   "outputs": [],
   "source": [
    "#import random\n",
    "#import pandas as pd\n",
    "#import glob\n",
    "#import matplotlib.pyplot as plt\n",
    "#plt.style.use(\"ggplot\")\n",
    "#%matplotlib inline\n",
    "\n",
    "from keras import backend as K\n",
    "#unet collection\n",
    "#import tensorflow as tf"
   ]
  },
  {
   "cell_type": "code",
   "execution_count": 2,
   "metadata": {},
   "outputs": [
    {
     "name": "stdout",
     "output_type": "stream",
     "text": [
      "<tensorflow.python.keras.engine.functional.Functional object at 0x00000178E9436CA0>\n"
     ]
    }
   ],
   "source": [
    "from keras.models import Model, load_model\n",
    "\n",
    "mp = \"D:/UniBas/Bachelorarbeit/ComparisonA/Task A/Results_Vgg/A_modelVGG16V1.h5\"\n",
    "sp = \"D:/UniBas/Bachelorarbeit/one_image\"\n",
    "\n",
    "def IoU(y_true, y_pred, smooth=1):\n",
    "    \"\"\"Computes intersection over union (IoU), a measure of labelling accuracy.\n",
    "\n",
    "    Arguments:\n",
    "        The ground-truth bit-mask,\n",
    "        The predicted bit-mask,\n",
    "        A smoothing parameter,\n",
    "\n",
    "    Returns:\n",
    "        Intersection over union scores.\n",
    "\n",
    "    \"\"\"\n",
    "    intersection = K.sum(K.abs(y_true * y_pred), axis=-1)\n",
    "    union = K.sum(y_true, -1) + K.sum(y_pred, -1) - intersection\n",
    "    iou = (intersection + smooth) / (union + smooth)\n",
    "    return iou\n",
    "\n",
    "\n",
    "model = load_model(\"D:/UniBas/Bachelorarbeit/ComparisonA/Task A/Results_Vgg/A_modelVGG16V1.h5\", custom_objects={'IoU': IoU})\n",
    "\n",
    "print(model)"
   ]
  }
 ],
 "metadata": {
  "kernelspec": {
   "display_name": "DeepACSA5",
   "language": "python",
   "name": "python3"
  },
  "language_info": {
   "codemirror_mode": {
    "name": "ipython",
    "version": 3
   },
   "file_extension": ".py",
   "mimetype": "text/x-python",
   "name": "python",
   "nbconvert_exporter": "python",
   "pygments_lexer": "ipython3",
   "version": "3.8.16"
  },
  "orig_nbformat": 4,
  "vscode": {
   "interpreter": {
    "hash": "9838a3f48d92ef1e13f85ce4f6b5d67652e8280cf6406f0fff9e9d21f80d92c3"
   }
  }
 },
 "nbformat": 4,
 "nbformat_minor": 2
}
